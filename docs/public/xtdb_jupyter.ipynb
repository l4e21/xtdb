{
  "cells": [
    {
      "cell_type": "markdown",
      "source": [
        "First we must install the python driver and the image for XTDB"
      ],
      "metadata": {
        "id": "0CLvowK8U7Uk"
      }
    },
    {
      "cell_type": "code",
      "source": [
        "!pip install 'xtdb==0.0.4.dev0'"
      ],
      "metadata": {
        "colab": {
          "base_uri": "https://localhost:8080/"
        },
        "id": "XfCCR0NHUtTt",
        "outputId": "c0107a66-720d-45c1-e077-672b4f9c4023"
      },
      "execution_count": null,
      "outputs": [
        {
          "output_type": "stream",
          "name": "stdout",
          "text": [
            "Collecting xtdb==0.0.4.dev0\n",
            "  Downloading xtdb-0.0.4.dev0-py3-none-any.whl (8.0 kB)\n",
            "Collecting mypy<2.0.0,>=1.9.0 (from xtdb==0.0.4.dev0)\n",
            "  Downloading mypy-1.10.0-cp310-cp310-manylinux_2_17_x86_64.manylinux2014_x86_64.whl (12.7 MB)\n",
            "\u001b[2K     \u001b[90m━━━━━━━━━━━━━━━━━━━━━━━━━━━━━━━━━━━━━━━━\u001b[0m \u001b[32m12.7/12.7 MB\u001b[0m \u001b[31m31.7 MB/s\u001b[0m eta \u001b[36m0:00:00\u001b[0m\n",
            "\u001b[?25hRequirement already satisfied: python-dateutil<3.0.0,>=2.8.2 in /usr/local/lib/python3.10/dist-packages (from xtdb==0.0.4.dev0) (2.8.2)\n",
            "Requirement already satisfied: sqlparse<0.6.0,>=0.5.0 in /usr/local/lib/python3.10/dist-packages (from xtdb==0.0.4.dev0) (0.5.0)\n",
            "Collecting urllib3<3.0.0,>=2.2.1 (from xtdb==0.0.4.dev0)\n",
            "  Downloading urllib3-2.2.1-py3-none-any.whl (121 kB)\n",
            "\u001b[2K     \u001b[90m━━━━━━━━━━━━━━━━━━━━━━━━━━━━━━━━━━━━━━━━\u001b[0m \u001b[32m121.1/121.1 kB\u001b[0m \u001b[31m6.7 MB/s\u001b[0m eta \u001b[36m0:00:00\u001b[0m\n",
            "\u001b[?25hRequirement already satisfied: typing-extensions>=4.1.0 in /usr/local/lib/python3.10/dist-packages (from mypy<2.0.0,>=1.9.0->xtdb==0.0.4.dev0) (4.11.0)\n",
            "Collecting mypy-extensions>=1.0.0 (from mypy<2.0.0,>=1.9.0->xtdb==0.0.4.dev0)\n",
            "  Downloading mypy_extensions-1.0.0-py3-none-any.whl (4.7 kB)\n",
            "Requirement already satisfied: tomli>=1.1.0 in /usr/local/lib/python3.10/dist-packages (from mypy<2.0.0,>=1.9.0->xtdb==0.0.4.dev0) (2.0.1)\n",
            "Requirement already satisfied: six>=1.5 in /usr/local/lib/python3.10/dist-packages (from python-dateutil<3.0.0,>=2.8.2->xtdb==0.0.4.dev0) (1.16.0)\n",
            "Installing collected packages: urllib3, mypy-extensions, mypy, xtdb\n",
            "  Attempting uninstall: urllib3\n",
            "    Found existing installation: urllib3 2.0.7\n",
            "    Uninstalling urllib3-2.0.7:\n",
            "      Successfully uninstalled urllib3-2.0.7\n",
            "Successfully installed mypy-1.10.0 mypy-extensions-1.0.0 urllib3-2.2.1 xtdb-0.0.4.dev0\n"
          ]
        }
      ]
    },
    {
      "cell_type": "code",
      "execution_count": null,
      "metadata": {
        "colab": {
          "base_uri": "https://localhost:8080/"
        },
        "id": "iTaGDIYTZAXc",
        "outputId": "94f51e0e-4e34-4485-ec55-50e459250690"
      },
      "outputs": [
        {
          "output_type": "stream",
          "name": "stdout",
          "text": [
            "\u001b[?25l     \u001b[90m━━━━━━━━━━━━━━━━━━━━━━━━━━━━━━━━━━━━━━━━\u001b[0m \u001b[32m0.0/119.4 kB\u001b[0m \u001b[31m?\u001b[0m eta \u001b[36m-:--:--\u001b[0m\r\u001b[2K     \u001b[91m━━━━━━━━━━\u001b[0m\u001b[90m╺\u001b[0m\u001b[90m━━━━━━━━━━━━━━━━━━━━━━━━━━━━━\u001b[0m \u001b[32m30.7/119.4 kB\u001b[0m \u001b[31m975.7 kB/s\u001b[0m eta \u001b[36m0:00:01\u001b[0m\r\u001b[2K     \u001b[91m━━━━━━━━━━━━━━━━━━━━━━━━━━━━━━━━━━━━━\u001b[0m\u001b[91m╸\u001b[0m\u001b[90m━━\u001b[0m \u001b[32m112.6/119.4 kB\u001b[0m \u001b[31m1.5 MB/s\u001b[0m eta \u001b[36m0:00:01\u001b[0m\r\u001b[2K     \u001b[90m━━━━━━━━━━━━━━━━━━━━━━━━━━━━━━━━━━━━━━━━\u001b[0m \u001b[32m119.4/119.4 kB\u001b[0m \u001b[31m1.3 MB/s\u001b[0m eta \u001b[36m0:00:00\u001b[0m\n",
            "\u001b[?25hInfo: creating repo: /root/.udocker\n",
            "Info: udocker command line interface 1.3.16\n",
            "Info: searching for udockertools >= 1.2.11\n",
            "Info: installing udockertools 1.2.11\n",
            "Info: installation of udockertools successful\n",
            "1\n",
            "Info: downloading layer sha256:bcc2588590e744e6702f37133da9bb91d3103af28977690956c3b2c9ba7bc773\n",
            "Info: downloading layer sha256:a428254436ae8a80527004da13bafee77e38daa8faac99abe6ce05b7f1e9d1a9\n",
            "Info: downloading layer sha256:e186d819fdccc7f3931c9871b01d3f0b0c01ae01de687378229dbe2934fddc29\n",
            "Info: downloading layer sha256:827a757d92f9fb1fd8fc05ee55a43799ca5d962023c9fbb7fc7a3c686e9b9c98\n",
            "Info: downloading layer sha256:88a482a892f797cdf94bf3a78ff38358fc8787db8011ff0735eab1e616e88182\n",
            "Info: downloading layer sha256:3a4f3b0af088f0ac99bc27258d0ec957d837be8754ad92943679c318bad4411a\n",
            "Info: downloading layer sha256:71555250e9d75951fa801c00af20690e7a9bcff8db0d671f8d3e8437b8713653\n",
            "Info: downloading layer sha256:c2d7d891635705a3929c1fe0b5cf0e411d6fdff6aada0305d3954968edf973ec\n",
            "Info: downloading layer sha256:dfc0d9a6855e071b36fbc6570e03cad42b0048eb5b1f5614c1753d6380cecfa9\n",
            "Info: downloading layer sha256:23828d760c7b04df02891af556c40ca44c2dd79d6837ea6f18fac24f4108448c\n",
            "Warning: this container exposes TCP/IP ports\n",
            " \n",
            " ****************************************************************************** \n",
            " *                                                                            * \n",
            " *               STARTING 9a74e402-44b1-319e-a4de-5a32c6f3f8e6                * \n",
            " *                                                                            * \n",
            " ****************************************************************************** \n",
            " executing: java\n",
            "Starting XTDB 2.x (pre-alpha) @ \"dev-SNAPSHOT\" @ bdcbd86 ...\n",
            "15:39:38 | DEBUG xtdb.metrics | Metrics server started on port:  33269\n",
            "15:39:38 | INFO  xtdb.server | HTTP server started on port:  3000\n",
            "15:39:38 | INFO  xtdb.pgwire | PGWire server started on port: 5432\n",
            "15:39:38 | INFO  xtdb.pgwire | PGWire server listening on 5432\n",
            "15:39:38 | INFO  xtdb.cli | Node started\n"
          ]
        }
      ],
      "source": [
        "# @title {display-mode:\"form\"}\n",
        "# @markdown <center><img src=\"https://xtdb.com/shared/images/logo-text.svg\" alt=\"Logo of XTDB\" /></center>\n",
        "import multiprocessing, time, urllib.request\n",
        "\n",
        "# >> Utils\n",
        "def __is_ok(url):\n",
        "    try:\n",
        "        with urllib.request.urlopen(url) as response:\n",
        "            return response.status == 200\n",
        "    except urllib.error.URLError:\n",
        "        return False\n",
        "\n",
        "def __bg(f):\n",
        "  multiprocessing.Process(target=f).start()\n",
        "\n",
        "def __container_count():\n",
        "  out = !udocker --allow-root ps | wc -l\n",
        "  return int(out[0]) - 1\n",
        "\n",
        "# >> Install udocker\n",
        "!pip install --quiet udocker\n",
        "!udocker --allow-root install\n",
        "\n",
        "# >> Run XTDB in the background\n",
        "def __start_xtdb():\n",
        "  if __container_count() < 1:\n",
        "    !udocker --allow-root run --publish=3000:3000 ghcr.io/xtdb/xtdb-standalone-ea:latest\n",
        "__bg(__start_xtdb)\n",
        "\n",
        "# >> Wait until XTDB is running\n",
        "while not __is_ok(\"http://localhost:3000/status\"):\n",
        "  time.sleep(1)"
      ]
    },
    {
      "cell_type": "markdown",
      "source": [
        "Everything we need lies in the client and the DB API (PEP 249)"
      ],
      "metadata": {
        "id": "0WpU0HnrW2RN"
      }
    },
    {
      "cell_type": "code",
      "source": [
        "from xtdb import Xtdb, DBAPI\n"
      ],
      "metadata": {
        "id": "Djv9sQ6HZ0bm"
      },
      "execution_count": null,
      "outputs": []
    },
    {
      "cell_type": "code",
      "source": [
        "!pip install --quiet jupysql\n",
        "%reload_ext sql\n",
        "conn = DBAPI().connect(\"http://localhost:3000\")\n",
        "%sql conn --alias xtdb"
      ],
      "metadata": {
        "id": "1073XRD_aDQE",
        "colab": {
          "base_uri": "https://localhost:8080/"
        },
        "outputId": "583cbb63-7291-42d7-d115-89a518660163"
      },
      "execution_count": null,
      "outputs": [
        {
          "output_type": "stream",
          "name": "stdout",
          "text": [
            "\u001b[2K     \u001b[90m━━━━━━━━━━━━━━━━━━━━━━━━━━━━━━━━━━━━━━━━\u001b[0m \u001b[32m95.7/95.7 kB\u001b[0m \u001b[31m1.1 MB/s\u001b[0m eta \u001b[36m0:00:00\u001b[0m\n",
            "\u001b[2K     \u001b[90m━━━━━━━━━━━━━━━━━━━━━━━━━━━━━━━━━━━━━━━━\u001b[0m \u001b[32m251.0/251.0 kB\u001b[0m \u001b[31m4.5 MB/s\u001b[0m eta \u001b[36m0:00:00\u001b[0m\n",
            "\u001b[2K     \u001b[90m━━━━━━━━━━━━━━━━━━━━━━━━━━━━━━━━━━━━━━━━\u001b[0m \u001b[32m193.0/193.0 kB\u001b[0m \u001b[31m12.0 MB/s\u001b[0m eta \u001b[36m0:00:00\u001b[0m\n",
            "\u001b[2K     \u001b[90m━━━━━━━━━━━━━━━━━━━━━━━━━━━━━━━━━━━━━━━━\u001b[0m \u001b[32m41.3/41.3 kB\u001b[0m \u001b[31m3.5 MB/s\u001b[0m eta \u001b[36m0:00:00\u001b[0m\n",
            "\u001b[?25hDeploy FastAPI apps for free on Ploomber Cloud! Learn more: https://ploomber.io/s/signup\n"
          ]
        }
      ]
    },
    {
      "cell_type": "code",
      "source": [
        "%sql INSERT INTO docs (xt$id, foo) VALUES (1, 'bar'), (2, 'baz');\n",
        "foo = 'bar'\n",
        "%sql SELECT * from docs where docs.foo = '{{foo}}';"
      ],
      "metadata": {
        "id": "PyrsU62ivagv",
        "colab": {
          "base_uri": "https://localhost:8080/",
          "height": 130
        },
        "outputId": "59082a2c-e671-4f57-80a0-86a59c7f0254"
      },
      "execution_count": null,
      "outputs": [
        {
          "output_type": "display_data",
          "data": {
            "text/plain": [
              "Running query in 'xtdb'"
            ],
            "text/html": [
              "<span style=\"None\">Running query in &#x27;xtdb&#x27;</span>"
            ]
          },
          "metadata": {}
        },
        {
          "output_type": "display_data",
          "data": {
            "text/plain": [
              "Running query in 'xtdb'"
            ],
            "text/html": [
              "<span style=\"None\">Running query in &#x27;xtdb&#x27;</span>"
            ]
          },
          "metadata": {}
        },
        {
          "output_type": "stream",
          "name": "stdout",
          "text": [
            "{\"query\": {\"sql\": \"SELECT * from docs where docs.foo = 'bar' \"}, \"queryOpts\": {}}\n"
          ]
        },
        {
          "output_type": "display_data",
          "data": {
            "text/plain": [
              "1 rows affected."
            ],
            "text/html": [
              "<span style=\"color: green\">1 rows affected.</span>"
            ]
          },
          "metadata": {}
        },
        {
          "output_type": "execute_result",
          "data": {
            "text/plain": [
              "+-------+-----+\n",
              "| xt/id | foo |\n",
              "+-------+-----+\n",
              "|   1   | bar |\n",
              "+-------+-----+"
            ],
            "text/html": [
              "<table>\n",
              "    <thead>\n",
              "        <tr>\n",
              "            <th>xt/id</th>\n",
              "            <th>foo</th>\n",
              "        </tr>\n",
              "    </thead>\n",
              "    <tbody>\n",
              "        <tr>\n",
              "            <td>1</td>\n",
              "            <td>bar</td>\n",
              "        </tr>\n",
              "    </tbody>\n",
              "</table>"
            ]
          },
          "metadata": {},
          "execution_count": 5
        }
      ]
    },
    {
      "cell_type": "markdown",
      "source": [
        "# Time in Finance\n",
        "\n",
        "IT systems of all kinds are plagued by many time-related complexities, from misconfigured Network Time Protocol and unexpected certificate expirations, to changing timezones and software concurrency bugs. However, systems in financial domains are additionally accutely affected by the following common requirements and challenges…"
      ],
      "metadata": {
        "id": "tqKrov71X9N0"
      }
    },
    {
      "cell_type": "markdown",
      "source": [
        "## 1) Audit and Replay: What Happened?\n",
        "\n",
        "SQL databases systems typically lose information whenever UPDATE or DELETE are used. They also don’t record or track the any changes to data by default."
      ],
      "metadata": {
        "id": "AUhrL7VrYFqO"
      }
    },
    {
      "cell_type": "code",
      "source": [
        "%%sql\n",
        "INSERT INTO trades (xt$id, price) VALUES (1, 100);\n",
        "UPDATE trades SET price = 150 WHERE trades.xt$id = 1;"
      ],
      "metadata": {
        "id": "t4kxjDKNYNv-",
        "colab": {
          "base_uri": "https://localhost:8080/",
          "height": 34
        },
        "outputId": "137a96fc-cbdd-4159-e001-2a0ff5ba5801"
      },
      "execution_count": null,
      "outputs": [
        {
          "output_type": "display_data",
          "data": {
            "text/plain": [
              "Running query in 'xtdb'"
            ],
            "text/html": [
              "<span style=\"None\">Running query in &#x27;xtdb&#x27;</span>"
            ]
          },
          "metadata": {}
        },
        {
          "output_type": "execute_result",
          "data": {
            "text/plain": [
              "++\n",
              "||\n",
              "++\n",
              "++"
            ],
            "text/html": [
              "<table>\n",
              "    <thead>\n",
              "        <tr>\n",
              "        </tr>\n",
              "    </thead>\n",
              "    <tbody>\n",
              "    </tbody>\n",
              "</table>"
            ]
          },
          "metadata": {},
          "execution_count": 6
        }
      ]
    },
    {
      "cell_type": "code",
      "source": [
        "%sql SELECT trades.xt$id, trades.price FROM trades;"
      ],
      "metadata": {
        "id": "AhYV4r3zcFRr",
        "colab": {
          "base_uri": "https://localhost:8080/",
          "height": 113
        },
        "outputId": "879719ce-2528-4384-c718-0b7757600af9"
      },
      "execution_count": null,
      "outputs": [
        {
          "output_type": "display_data",
          "data": {
            "text/plain": [
              "Running query in 'xtdb'"
            ],
            "text/html": [
              "<span style=\"None\">Running query in &#x27;xtdb&#x27;</span>"
            ]
          },
          "metadata": {}
        },
        {
          "output_type": "stream",
          "name": "stdout",
          "text": [
            "{\"query\": {\"sql\": \"SELECT trades.xt$id, trades.price FROM trades\"}, \"queryOpts\": {}}\n"
          ]
        },
        {
          "output_type": "display_data",
          "data": {
            "text/plain": [
              "1 rows affected."
            ],
            "text/html": [
              "<span style=\"color: green\">1 rows affected.</span>"
            ]
          },
          "metadata": {}
        },
        {
          "output_type": "execute_result",
          "data": {
            "text/plain": [
              "+-------+-------+\n",
              "| price | xt/id |\n",
              "+-------+-------+\n",
              "|  150  |   1   |\n",
              "+-------+-------+"
            ],
            "text/html": [
              "<table>\n",
              "    <thead>\n",
              "        <tr>\n",
              "            <th>price</th>\n",
              "            <th>xt/id</th>\n",
              "        </tr>\n",
              "    </thead>\n",
              "    <tbody>\n",
              "        <tr>\n",
              "            <td>150</td>\n",
              "            <td>1</td>\n",
              "        </tr>\n",
              "    </tbody>\n",
              "</table>"
            ]
          },
          "metadata": {},
          "execution_count": 7
        }
      ]
    },
    {
      "cell_type": "markdown",
      "source": [
        "In common SQL databases, the original price ‘100’ is lost forever, and no information about when it was last changed is recorded. Perhaps if you’re sufficiently desparate and very lucky there might be an old backup of the data available somewhere with a previous value."
      ],
      "metadata": {
        "id": "q0t52niPYYhL"
      }
    },
    {
      "cell_type": "markdown",
      "source": [
        "As a consequence, software engineers working in financial domains are forced to routinely confront this fundamental ‘mutability’ across their database systems to ensure that sufficient records are kept for satisfying auditors and regulators about exactly how have changed over time.\n",
        "\n",
        "In XTDB however, there is no need for custom audit tables or timestamp columns to litter the application schema, because a full audit history is maintained automatically, and the history of the entire database can be ‘replayed’ with microsecond granularity."
      ],
      "metadata": {
        "id": "ilWvw6WkYdfy"
      }
    },
    {
      "cell_type": "code",
      "source": [
        "%%sql\n",
        "INSERT INTO trades (xt$id, price) VALUES (1, 100);\n",
        "UPDATE trades SET price = 150 WHERE trades.xt$id = 1;"
      ],
      "metadata": {
        "id": "riOeCQlbYY0g",
        "colab": {
          "base_uri": "https://localhost:8080/",
          "height": 34
        },
        "outputId": "675f43ed-ed73-47f8-fe30-5072d6d98281"
      },
      "execution_count": null,
      "outputs": [
        {
          "output_type": "display_data",
          "data": {
            "text/plain": [
              "Running query in 'xtdb'"
            ],
            "text/html": [
              "<span style=\"None\">Running query in &#x27;xtdb&#x27;</span>"
            ]
          },
          "metadata": {}
        },
        {
          "output_type": "execute_result",
          "data": {
            "text/plain": [
              "++\n",
              "||\n",
              "++\n",
              "++"
            ],
            "text/html": [
              "<table>\n",
              "    <thead>\n",
              "        <tr>\n",
              "        </tr>\n",
              "    </thead>\n",
              "    <tbody>\n",
              "    </tbody>\n",
              "</table>"
            ]
          },
          "metadata": {},
          "execution_count": 8
        }
      ]
    },
    {
      "cell_type": "code",
      "source": [
        "%sql SELECT trades.xt$id, trades.price, trades.xt$system_from FROM trades FOR ALL SYSTEM_TIME;"
      ],
      "metadata": {
        "id": "gHVxzovVcCNw",
        "colab": {
          "base_uri": "https://localhost:8080/",
          "height": 176
        },
        "outputId": "b24d465a-a7c1-4207-9404-9753293c867e"
      },
      "execution_count": null,
      "outputs": [
        {
          "output_type": "display_data",
          "data": {
            "text/plain": [
              "Running query in 'xtdb'"
            ],
            "text/html": [
              "<span style=\"None\">Running query in &#x27;xtdb&#x27;</span>"
            ]
          },
          "metadata": {}
        },
        {
          "output_type": "stream",
          "name": "stdout",
          "text": [
            "{\"query\": {\"sql\": \"SELECT trades.xt$id, trades.price, trades.xt$system_from FROM trades FOR ALL SYSTEM_TIME\"}, \"queryOpts\": {}}\n"
          ]
        },
        {
          "output_type": "display_data",
          "data": {
            "text/plain": [
              "4 rows affected."
            ],
            "text/html": [
              "<span style=\"color: green\">4 rows affected.</span>"
            ]
          },
          "metadata": {}
        },
        {
          "output_type": "execute_result",
          "data": {
            "text/plain": [
              "+-------+----------------------------+-------+\n",
              "| price |       xt/system-from       | xt/id |\n",
              "+-------+----------------------------+-------+\n",
              "|  150  | 2024-05-22 15:39:53.281277 |   1   |\n",
              "|  100  | 2024-05-22 15:39:53.260680 |   1   |\n",
              "|  150  | 2024-05-22 15:39:52.839110 |   1   |\n",
              "|  100  | 2024-05-22 15:39:52.811914 |   1   |\n",
              "+-------+----------------------------+-------+"
            ],
            "text/html": [
              "<table>\n",
              "    <thead>\n",
              "        <tr>\n",
              "            <th>price</th>\n",
              "            <th>xt/system-from</th>\n",
              "            <th>xt/id</th>\n",
              "        </tr>\n",
              "    </thead>\n",
              "    <tbody>\n",
              "        <tr>\n",
              "            <td>150</td>\n",
              "            <td>2024-05-22 15:39:53.281277</td>\n",
              "            <td>1</td>\n",
              "        </tr>\n",
              "        <tr>\n",
              "            <td>100</td>\n",
              "            <td>2024-05-22 15:39:53.260680</td>\n",
              "            <td>1</td>\n",
              "        </tr>\n",
              "        <tr>\n",
              "            <td>150</td>\n",
              "            <td>2024-05-22 15:39:52.839110</td>\n",
              "            <td>1</td>\n",
              "        </tr>\n",
              "        <tr>\n",
              "            <td>100</td>\n",
              "            <td>2024-05-22 15:39:52.811914</td>\n",
              "            <td>1</td>\n",
              "        </tr>\n",
              "    </tbody>\n",
              "</table>"
            ]
          },
          "metadata": {},
          "execution_count": 9
        }
      ]
    },
    {
      "cell_type": "markdown",
      "source": [
        "XTDB implements the SQL:2011 standard for “system time versioning” ubiquitously, across all tables. Queries can run against any previous database state and have full access to history through the regular SQL interface.\n",
        "\n",
        "A fully-ordered log of transaction history is maintained:"
      ],
      "metadata": {
        "id": "ZYXWH-GtZCdN"
      }
    },
    {
      "cell_type": "code",
      "source": [
        "%sql SELECT transaction_log.* FROM xt$txs AS transaction_log LIMIT 4;"
      ],
      "metadata": {
        "id": "LbVRtiu4ZEGz",
        "colab": {
          "base_uri": "https://localhost:8080/",
          "height": 176
        },
        "outputId": "ceea3067-7341-46cc-8431-7c884aec015c"
      },
      "execution_count": null,
      "outputs": [
        {
          "output_type": "display_data",
          "data": {
            "text/plain": [
              "Running query in 'xtdb'"
            ],
            "text/html": [
              "<span style=\"None\">Running query in &#x27;xtdb&#x27;</span>"
            ]
          },
          "metadata": {}
        },
        {
          "output_type": "stream",
          "name": "stdout",
          "text": [
            "{\"query\": {\"sql\": \"SELECT transaction_log.* FROM xt$txs AS transaction_log LIMIT 4\"}, \"queryOpts\": {}}\n"
          ]
        },
        {
          "output_type": "display_data",
          "data": {
            "text/plain": [
              "4 rows affected."
            ],
            "text/html": [
              "<span style=\"color: green\">4 rows affected.</span>"
            ]
          },
          "metadata": {}
        },
        {
          "output_type": "execute_result",
          "data": {
            "text/plain": [
              "+---------------+----------------------------+-------+\n",
              "| xt/committed? |         xt/tx-time         | xt/id |\n",
              "+---------------+----------------------------+-------+\n",
              "|      True     | 2024-05-22 15:39:52.811914 |  1317 |\n",
              "|      True     | 2024-05-22 15:39:53.281277 |  5244 |\n",
              "|      True     | 2024-05-22 15:39:52.839110 |  2626 |\n",
              "|      True     | 2024-05-22 15:39:53.260680 |  3935 |\n",
              "+---------------+----------------------------+-------+"
            ],
            "text/html": [
              "<table>\n",
              "    <thead>\n",
              "        <tr>\n",
              "            <th>xt/committed?</th>\n",
              "            <th>xt/tx-time</th>\n",
              "            <th>xt/id</th>\n",
              "        </tr>\n",
              "    </thead>\n",
              "    <tbody>\n",
              "        <tr>\n",
              "            <td>True</td>\n",
              "            <td>2024-05-22 15:39:52.811914</td>\n",
              "            <td>1317</td>\n",
              "        </tr>\n",
              "        <tr>\n",
              "            <td>True</td>\n",
              "            <td>2024-05-22 15:39:53.281277</td>\n",
              "            <td>5244</td>\n",
              "        </tr>\n",
              "        <tr>\n",
              "            <td>True</td>\n",
              "            <td>2024-05-22 15:39:52.839110</td>\n",
              "            <td>2626</td>\n",
              "        </tr>\n",
              "        <tr>\n",
              "            <td>True</td>\n",
              "            <td>2024-05-22 15:39:53.260680</td>\n",
              "            <td>3935</td>\n",
              "        </tr>\n",
              "    </tbody>\n",
              "</table>"
            ]
          },
          "metadata": {},
          "execution_count": 10
        }
      ]
    },
    {
      "cell_type": "markdown",
      "source": [
        "# 2) Snapshot-free Reporting: reproducibility without copying and result tearing\n",
        "\n",
        "Most applications rely on an ability to issue multiple queries against a database, and can’t simply execute a single SQL statement to retrieve all necessary information in a single round trip.\n",
        "\n",
        "To maintain consistency across multiple queries, databases offer ACID transaction sessions which fully isolate the reading application process from any concurrent writes that may be affecting the records being read.\n",
        "\n",
        "This session-oriented transaction isolation capability is typically stateful and extremely resource-intensive over long durations due to ‘locking’ of record versions internally within the database, and in turn this degrades the performance of all workloads using the system.\n",
        "\n",
        "To workaround these limitations of regular transactions, applications that need to run many queries in a consistent manner will often resort to first exporting all the necessary data or using database facilities to create explicit ‘snapshots’ (i.e. redundant copies).\n",
        "\n",
        "In contrast, XTDB allows applications to refer to previous database states without any declarations ahead of time - queries can simply specify the version of the database (using a ‘basis’ timestamp) and specific tables as needed:\n"
      ],
      "metadata": {
        "id": "sRg6SEirXUrW"
      }
    },
    {
      "cell_type": "code",
      "source": [
        "%%sql\n",
        "SET import_system_time = '2020-01-01T00:00:00Z';\n",
        "INSERT INTO trades (xt$id, price) VALUES (1, 100);\n"
      ],
      "metadata": {
        "colab": {
          "base_uri": "https://localhost:8080/",
          "height": 34
        },
        "id": "R0rizdaWXdLE",
        "outputId": "70ef42ac-fd4d-4500-963a-b1d118b9344f"
      },
      "execution_count": null,
      "outputs": [
        {
          "output_type": "display_data",
          "data": {
            "text/plain": [
              "Running query in 'xtdb'"
            ],
            "text/html": [
              "<span style=\"None\">Running query in &#x27;xtdb&#x27;</span>"
            ]
          },
          "metadata": {}
        },
        {
          "output_type": "execute_result",
          "data": {
            "text/plain": [
              "++\n",
              "||\n",
              "++\n",
              "++"
            ],
            "text/html": [
              "<table>\n",
              "    <thead>\n",
              "        <tr>\n",
              "        </tr>\n",
              "    </thead>\n",
              "    <tbody>\n",
              "    </tbody>\n",
              "</table>"
            ]
          },
          "metadata": {},
          "execution_count": 22
        }
      ]
    },
    {
      "cell_type": "code",
      "source": [
        "%%sql\n",
        "SET import_system_time = '2020-01-02T00:00:00Z';\n",
        "INSERT INTO trades (xt$id, price) VALUES (1, 150);\n"
      ],
      "metadata": {
        "colab": {
          "base_uri": "https://localhost:8080/",
          "height": 34
        },
        "id": "y-sTn8YBbknV",
        "outputId": "38cee7d9-f47b-47b1-c3e5-c11fb6d93099"
      },
      "execution_count": null,
      "outputs": [
        {
          "output_type": "display_data",
          "data": {
            "text/plain": [
              "Running query in 'xtdb'"
            ],
            "text/html": [
              "<span style=\"None\">Running query in &#x27;xtdb&#x27;</span>"
            ]
          },
          "metadata": {}
        },
        {
          "output_type": "execute_result",
          "data": {
            "text/plain": [
              "++\n",
              "||\n",
              "++\n",
              "++"
            ],
            "text/html": [
              "<table>\n",
              "    <thead>\n",
              "        <tr>\n",
              "        </tr>\n",
              "    </thead>\n",
              "    <tbody>\n",
              "    </tbody>\n",
              "</table>"
            ]
          },
          "metadata": {},
          "execution_count": 12
        }
      ]
    },
    {
      "cell_type": "code",
      "source": [
        "%sql SELECT trades.xt$id, trades.price FROM trades FOR SYSTEM_TIME AS OF DATE '2020-01-01';"
      ],
      "metadata": {
        "colab": {
          "base_uri": "https://localhost:8080/",
          "height": 52
        },
        "id": "uz7NxPtObDk0",
        "outputId": "50d8739a-446f-4115-b9a0-00fe98d06f3d"
      },
      "execution_count": null,
      "outputs": [
        {
          "output_type": "display_data",
          "data": {
            "text/plain": [
              "Running query in 'xtdb'"
            ],
            "text/html": [
              "<span style=\"None\">Running query in &#x27;xtdb&#x27;</span>"
            ]
          },
          "metadata": {}
        },
        {
          "output_type": "stream",
          "name": "stdout",
          "text": [
            "{\"query\": {\"sql\": \"SELECT trades.xt$id, trades.price FROM trades FOR SYSTEM_TIME AS OF DATE '2020-01-01' \"}, \"queryOpts\": {}}\n"
          ]
        },
        {
          "output_type": "execute_result",
          "data": {
            "text/plain": [
              "++\n",
              "||\n",
              "++\n",
              "++"
            ],
            "text/html": [
              "<table>\n",
              "    <thead>\n",
              "        <tr>\n",
              "        </tr>\n",
              "    </thead>\n",
              "    <tbody>\n",
              "    </tbody>\n",
              "</table>"
            ]
          },
          "metadata": {},
          "execution_count": 13
        }
      ]
    },
    {
      "cell_type": "markdown",
      "source": [
        "No locking, copying, or snapshotting is taking place against within XTDB. Queries against old, stable versions of the data are always consistent and will never contain partial changes or ‘tearing’ in the results.\n"
      ],
      "metadata": {
        "id": "jQoH1kYjcMRk"
      }
    },
    {
      "cell_type": "markdown",
      "source": [
        "# 3) Interleaving Upstream Sources: whose timestamp?\n",
        "\n",
        "In many circumstances the system time of the database itself is uninteresting (i.e outside of auditing / debugging), and what is more relevant is the time recorded in an upstrem system. For instance a High-Frequency Trading platform could generate a trade with a timestamp that is anywhere from 0.01-100ms earlier than the time at which the trade database records the trade. In other situations information may even arrive hours or days ‘late’.\n",
        "\n",
        "In cases where the upstream timestamps need to be respected for the AS OF application reporting requirement even moreso than the database timestamps, “valid time versioning” is required (implementing SQL:2011’s notion of “application time versioning”).\n",
        "\n",
        "Crucially, valid-time is suitable for handling out-of-order timestamp information coming from many upstream systems, whereas system-time is always a monotonically increasing local clock. All rows of data in XTDB keep track of system-time and valid-time timestamps, which allows for precise querying.\n",
        "\n",
        "Similarly to using system-time for snapshot-free reporting, valid-time can be used to run multiple queries consistently against fixed timestamps in conjunction with system-time, creating a “bitemporal timeslice” view of data.\n"
      ],
      "metadata": {
        "id": "h-acw7PIcSPX"
      }
    },
    {
      "cell_type": "code",
      "source": [
        "%%sql\n",
        "SET import_system_time = '2020-01-02T00:00:00Z';\n",
        "INSERT INTO trades (xt$id, price, xt$valid_from)\n",
        "VALUES (2, 200, DATE '2020-01-02');"
      ],
      "metadata": {
        "colab": {
          "base_uri": "https://localhost:8080/",
          "height": 34
        },
        "id": "IIwQOfLIcVuY",
        "outputId": "d9ffea72-3616-48bc-94ad-2b5b618d0754"
      },
      "execution_count": null,
      "outputs": [
        {
          "output_type": "display_data",
          "data": {
            "text/plain": [
              "Running query in 'xtdb'"
            ],
            "text/html": [
              "<span style=\"None\">Running query in &#x27;xtdb&#x27;</span>"
            ]
          },
          "metadata": {}
        },
        {
          "output_type": "execute_result",
          "data": {
            "text/plain": [
              "++\n",
              "||\n",
              "++\n",
              "++"
            ],
            "text/html": [
              "<table>\n",
              "    <thead>\n",
              "        <tr>\n",
              "        </tr>\n",
              "    </thead>\n",
              "    <tbody>\n",
              "    </tbody>\n",
              "</table>"
            ]
          },
          "metadata": {},
          "execution_count": 14
        }
      ]
    },
    {
      "cell_type": "code",
      "source": [
        "%%sql\n",
        "SET import_system_time = '2020-01-03T00:00:00Z';\n",
        "INSERT INTO trades (xt$id, price, xt$valid_from)\n",
        "VALUES (1, 100, DATE '2020-01-01');"
      ],
      "metadata": {
        "colab": {
          "base_uri": "https://localhost:8080/",
          "height": 34
        },
        "id": "2WTwn6fdcdwP",
        "outputId": "b669e463-d786-48ce-841b-aaf3a1be91d1"
      },
      "execution_count": null,
      "outputs": [
        {
          "output_type": "display_data",
          "data": {
            "text/plain": [
              "Running query in 'xtdb'"
            ],
            "text/html": [
              "<span style=\"None\">Running query in &#x27;xtdb&#x27;</span>"
            ]
          },
          "metadata": {}
        },
        {
          "output_type": "execute_result",
          "data": {
            "text/plain": [
              "++\n",
              "||\n",
              "++\n",
              "++"
            ],
            "text/html": [
              "<table>\n",
              "    <thead>\n",
              "        <tr>\n",
              "        </tr>\n",
              "    </thead>\n",
              "    <tbody>\n",
              "    </tbody>\n",
              "</table>"
            ]
          },
          "metadata": {},
          "execution_count": 15
        }
      ]
    },
    {
      "cell_type": "code",
      "source": [
        "%%sql\n",
        "SET import_system_time = '2020-01-04T00:00:00Z';\n",
        "INSERT INTO trades (xt$id, price, xt$valid_from)\n",
        "VALUES (4, 400, DATE '2020-01-04');"
      ],
      "metadata": {
        "colab": {
          "base_uri": "https://localhost:8080/",
          "height": 34
        },
        "id": "gClf5-wscqyH",
        "outputId": "92ca0c43-fae3-4ba9-f80f-abf72fc95d72"
      },
      "execution_count": null,
      "outputs": [
        {
          "output_type": "display_data",
          "data": {
            "text/plain": [
              "Running query in 'xtdb'"
            ],
            "text/html": [
              "<span style=\"None\">Running query in &#x27;xtdb&#x27;</span>"
            ]
          },
          "metadata": {}
        },
        {
          "output_type": "execute_result",
          "data": {
            "text/plain": [
              "++\n",
              "||\n",
              "++\n",
              "++"
            ],
            "text/html": [
              "<table>\n",
              "    <thead>\n",
              "        <tr>\n",
              "        </tr>\n",
              "    </thead>\n",
              "    <tbody>\n",
              "    </tbody>\n",
              "</table>"
            ]
          },
          "metadata": {},
          "execution_count": 16
        }
      ]
    },
    {
      "cell_type": "code",
      "source": [
        "%%sql\n",
        "SELECT trades.xt$id, trades.price\n",
        "  FROM trades FOR VALID_TIME AS OF TIMESTAMP '2020-01-01 00:00:00'\n",
        "              FOR SYSTEM_TIME AS OF DATE '2020-01-31';"
      ],
      "metadata": {
        "colab": {
          "base_uri": "https://localhost:8080/",
          "height": 113
        },
        "id": "iA3ft1b-cyFF",
        "outputId": "35ec5a1a-ee2d-4274-99a5-d9db9d75a1f4"
      },
      "execution_count": null,
      "outputs": [
        {
          "output_type": "display_data",
          "data": {
            "text/plain": [
              "Running query in 'xtdb'"
            ],
            "text/html": [
              "<span style=\"None\">Running query in &#x27;xtdb&#x27;</span>"
            ]
          },
          "metadata": {}
        },
        {
          "output_type": "stream",
          "name": "stdout",
          "text": [
            "{\"query\": {\"sql\": \"SELECT trades.xt$id, trades.price\\n  FROM trades FOR VALID_TIME AS OF TIMESTAMP '2020-01-01 00:00:00'\\n              FOR SYSTEM_TIME AS OF DATE '2020-01-31'\"}, \"queryOpts\": {}}\n"
          ]
        },
        {
          "output_type": "display_data",
          "data": {
            "text/plain": [
              "1 rows affected."
            ],
            "text/html": [
              "<span style=\"color: green\">1 rows affected.</span>"
            ]
          },
          "metadata": {}
        },
        {
          "output_type": "execute_result",
          "data": {
            "text/plain": [
              "+-------+-------+\n",
              "| price | xt/id |\n",
              "+-------+-------+\n",
              "|  100  |   1   |\n",
              "+-------+-------+"
            ],
            "text/html": [
              "<table>\n",
              "    <thead>\n",
              "        <tr>\n",
              "            <th>price</th>\n",
              "            <th>xt/id</th>\n",
              "        </tr>\n",
              "    </thead>\n",
              "    <tbody>\n",
              "        <tr>\n",
              "            <td>100</td>\n",
              "            <td>1</td>\n",
              "        </tr>\n",
              "    </tbody>\n",
              "</table>"
            ]
          },
          "metadata": {},
          "execution_count": 17
        }
      ]
    },
    {
      "cell_type": "code",
      "source": [
        "%%sql\n",
        "SELECT trades.xt$id, trades.price\n",
        "  FROM trades FOR VALID_TIME AS OF TIMESTAMP '2020-01-04 00:00:00'\n",
        "              FOR SYSTEM_TIME AS OF DATE '2020-01-31';"
      ],
      "metadata": {
        "colab": {
          "base_uri": "https://localhost:8080/",
          "height": 155
        },
        "id": "znIhPxGAdAal",
        "outputId": "35bdcb48-d067-467c-9175-f2b08b0f2637"
      },
      "execution_count": null,
      "outputs": [
        {
          "output_type": "display_data",
          "data": {
            "text/plain": [
              "Running query in 'xtdb'"
            ],
            "text/html": [
              "<span style=\"None\">Running query in &#x27;xtdb&#x27;</span>"
            ]
          },
          "metadata": {}
        },
        {
          "output_type": "stream",
          "name": "stdout",
          "text": [
            "{\"query\": {\"sql\": \"SELECT trades.xt$id, trades.price\\n  FROM trades FOR VALID_TIME AS OF TIMESTAMP '2020-01-04 00:00:00'\\n              FOR SYSTEM_TIME AS OF DATE '2020-01-31'\"}, \"queryOpts\": {}}\n"
          ]
        },
        {
          "output_type": "display_data",
          "data": {
            "text/plain": [
              "3 rows affected."
            ],
            "text/html": [
              "<span style=\"color: green\">3 rows affected.</span>"
            ]
          },
          "metadata": {}
        },
        {
          "output_type": "execute_result",
          "data": {
            "text/plain": [
              "+-------+-------+\n",
              "| price | xt/id |\n",
              "+-------+-------+\n",
              "|  200  |   2   |\n",
              "|  100  |   1   |\n",
              "|  400  |   4   |\n",
              "+-------+-------+"
            ],
            "text/html": [
              "<table>\n",
              "    <thead>\n",
              "        <tr>\n",
              "            <th>price</th>\n",
              "            <th>xt/id</th>\n",
              "        </tr>\n",
              "    </thead>\n",
              "    <tbody>\n",
              "        <tr>\n",
              "            <td>200</td>\n",
              "            <td>2</td>\n",
              "        </tr>\n",
              "        <tr>\n",
              "            <td>100</td>\n",
              "            <td>1</td>\n",
              "        </tr>\n",
              "        <tr>\n",
              "            <td>400</td>\n",
              "            <td>4</td>\n",
              "        </tr>\n",
              "    </tbody>\n",
              "</table>"
            ]
          },
          "metadata": {},
          "execution_count": 18
        }
      ]
    },
    {
      "cell_type": "markdown",
      "source": [
        "# 4) Complex Version Histories\n",
        "\n",
        "In addition to storing and reporting against upstream timestamps, financial applications often need to record and display multiple versions of entities.\n",
        "\n",
        "Within many SQL systems, schema migrations complicate the ability to retain access to prior versions, and many applications resort to storing data as denormalized JSON.\n",
        "\n",
        "XTDB allows applications to handle diverse shapes of evolving, document-like data natively within regular SQL. No schema is required up-front and regular SQL typing is respected:"
      ],
      "metadata": {
        "id": "OrHdrUmTDps2"
      }
    },
    {
      "cell_type": "code",
      "source": [
        "%%sql\n",
        "SET import_system_time = '2020-01-02T00:00:00Z';\n",
        "INSERT INTO ts3 (xt$id, info, xt$valid_from) VALUES (1, {'price': 100}, DATE '2020-01-01');\n",
        "SET import_system_time = '2020-01-03T01:02:03Z';\n",
        "UPDATE ts3 SET info = {'price': 100, 'qty': 5}\n",
        "WHERE ts3.xt$id = 1;SET import_system_time = '2020-01-04T00:00:00Z';\n",
        "UPDATE ts3 SET info = {'price': 101, 'qty': 4, 'model_params':[DATE '2020-06-01', {'gbp_usd': 1.2617}]} WHERE trades.xt$id = 1;\n"
      ],
      "metadata": {
        "id": "O7sgRYdJDs3P",
        "colab": {
          "base_uri": "https://localhost:8080/",
          "height": 34
        },
        "outputId": "739f2b2b-878c-4aca-e649-ec23f972e89e"
      },
      "execution_count": null,
      "outputs": [
        {
          "output_type": "display_data",
          "data": {
            "text/plain": [
              "Running query in 'xtdb'"
            ],
            "text/html": [
              "<span style=\"None\">Running query in &#x27;xtdb&#x27;</span>"
            ]
          },
          "metadata": {}
        },
        {
          "output_type": "execute_result",
          "data": {
            "text/plain": [
              "++\n",
              "||\n",
              "++\n",
              "++"
            ],
            "text/html": [
              "<table>\n",
              "    <thead>\n",
              "        <tr>\n",
              "        </tr>\n",
              "    </thead>\n",
              "    <tbody>\n",
              "    </tbody>\n",
              "</table>"
            ]
          },
          "metadata": {},
          "execution_count": 32
        }
      ]
    },
    {
      "cell_type": "code",
      "source": [
        "%%sql\n",
        "SELECT ts.xt$id, ts.info, ts.xt$valid_from, ts.xt$valid_to FROM ts3 FOR VALID_TIME FROM DATE '2020-01-01' TO DATE '2020-01-31' As ts;"
      ],
      "metadata": {
        "id": "AY3lGdmmELc0",
        "colab": {
          "base_uri": "https://localhost:8080/",
          "height": 52
        },
        "outputId": "aa28a484-e197-43e9-f4f4-b824d423518c"
      },
      "execution_count": null,
      "outputs": [
        {
          "output_type": "display_data",
          "data": {
            "text/plain": [
              "Running query in 'xtdb'"
            ],
            "text/html": [
              "<span style=\"None\">Running query in &#x27;xtdb&#x27;</span>"
            ]
          },
          "metadata": {}
        },
        {
          "output_type": "stream",
          "name": "stdout",
          "text": [
            "{\"query\": {\"sql\": \"SELECT ts.xt$id, ts.info, ts.xt$valid_from, ts.xt$valid_to FROM ts3 FOR VALID_TIME FROM DATE '2020-01-01' TO DATE '2020-01-31' As ts\"}, \"queryOpts\": {}}\n"
          ]
        },
        {
          "output_type": "execute_result",
          "data": {
            "text/plain": [
              "++\n",
              "||\n",
              "++\n",
              "++"
            ],
            "text/html": [
              "<table>\n",
              "    <thead>\n",
              "        <tr>\n",
              "        </tr>\n",
              "    </thead>\n",
              "    <tbody>\n",
              "    </tbody>\n",
              "</table>"
            ]
          },
          "metadata": {},
          "execution_count": 35
        }
      ]
    },
    {
      "cell_type": "markdown",
      "source": [
        "# 5) Intelligent Archival: live data and storage tiering with transparent queries\n",
        "\n",
        "All data has a lifecycle, and in a typical application the window of ‘live’ data is carefully managed to ensure that the existence of old and now-irrelevant data does not impact the ongoing performance of the application more than necessary.\n",
        "\n",
        "For instance, once a trade has been settled, it no longer needs to be incorporated into new risk calculations.\n",
        "\n",
        "However, any such 'old' data invariably still needs to be retained beyond any single application's window of interest, so it likely gets migrated of 'archived' as part of a batch processing job into a longer term storage system which has a significantly lower basic operational cost for data retention.\n",
        "\n",
        "With XTDB's ubiquitous tracking of `system_to` and `valid_to` columns however, manual migration processes become unnecessary. Applications can allow data to be transparently archived into cheaper storage by the database without affecting the performance of working with live data.\n",
        "\n",
        "Whenever old data is needed to be queried, it can achieved purely via SQL without any out-of-band engineering or processing work.\n",
        "\n",
        "Applications can set the `valid_to` column explicitly to correspond with data lifecycle archival events like 'settled_at'. Or alternatively they can simple `DELETE` the relevant records (setting `valid_to` to the implicit `CURRENT_TIMESTAMP` at the time of the transaction):\n"
      ],
      "metadata": {
        "id": "hicF83P3EQjc"
      }
    },
    {
      "cell_type": "code",
      "source": [
        "%%sql\n",
        "SET import_system_time = '2020-01-02T00:00:00Z';\n",
        "INSERT INTO ts2 (xt$id, price, xt$valid_from) VALUES (1, 100, DATE '2020-01-01');\n",
        "SET import_system_time = '2020-01-03T00:00:00Z';\n",
        "UPDATE ts2 SET price = 105 WHERE ts2.xt$id = 1;\n",
        "SET import_system_time = '2020-01-10T00:00:00Z';\n",
        "DELETE FROM ts2 WHERE ts2.xt$id = 1;"
      ],
      "metadata": {
        "id": "RsR7sUZlErJR"
      },
      "execution_count": null,
      "outputs": []
    },
    {
      "cell_type": "code",
      "source": [
        "%%sql\n",
        "SELECT ts2.xt$id, ts2.price, ts2.xt$valid_from, ts2.xt$valid_to FROM ts2 FOR VALID_TIME FROM DATE '2020-01-01' TO DATE '2020-01-31';"
      ],
      "metadata": {
        "id": "WcD2w8ZsIYPq"
      },
      "execution_count": null,
      "outputs": []
    },
    {
      "cell_type": "markdown",
      "source": [
        "Extracting unbounded “change data” from XTDB is therefore trivial, without any additional Change Data Capture complexity or integration work beyond raw SQL.\n",
        "\n",
        "Only systems with a comprehensive, fine-grained understanding of the data lifecycle can effectively implement storage tiering to reduce long-term costs."
      ],
      "metadata": {
        "id": "BIT7zA9gIeh7"
      }
    }
  ],
  "metadata": {
    "colab": {
      "provenance": []
    },
    "kernelspec": {
      "display_name": "Python 3",
      "name": "python3"
    },
    "language_info": {
      "name": "python"
    }
  },
  "nbformat": 4,
  "nbformat_minor": 0
}